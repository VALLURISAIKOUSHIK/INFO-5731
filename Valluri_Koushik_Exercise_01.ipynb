{
  "cells": [
    {
      "cell_type": "markdown",
      "metadata": {
        "id": "view-in-github"
      },
      "source": [
        "<a href=\"https://colab.research.google.com/github/unt-iialab/INFO5731_Spring2020/blob/master/In_class_exercise/In_class_exercise_01.ipynb\" target=\"_parent\"><img src=\"https://colab.research.google.com/assets/colab-badge.svg\" alt=\"Open In Colab\"/></a>"
      ]
    },
    {
      "cell_type": "markdown",
      "metadata": {
        "id": "DymRJbxDBCnf"
      },
      "source": [
        "# **This first In-class-exercise cover a variety of fundamental concepts in Python and are designed to help individuals improve their coding skills and problem-solving abilities.**\n",
        "\n",
        "The submission is due on 01/31/2024 11:59 PM. This submission is worth 40 points in total.\n"
      ]
    },
    {
      "cell_type": "markdown",
      "source": [
        "(1) Write a Python program that  prompts the user to input the length and width of a rectangle, and then calculates and displays the area of the rectangle."
      ],
      "metadata": {
        "id": "FBKvD6O_TY6e"
      }
    },
    {
      "cell_type": "code",
      "source": [
        "def calculate_rectangle_area(length, width):\n",
        "    return length * width\n",
        "\n",
        "def main():\n",
        "    print(\"Enter the length and width of the rectangle:\")\n",
        "    length = float(input(\"Length: \"))\n",
        "    width = float(input(\"Width: \"))\n",
        "\n",
        "    area = calculate_rectangle_area(length, width)\n",
        "    print(\"The area of the rectangle is:\", area)\n",
        "\n",
        "if __name__ == \"__main__\":\n",
        "    main()\n"
      ],
      "metadata": {
        "id": "cikVKDXdTbzE",
        "colab": {
          "base_uri": "https://localhost:8080/"
        },
        "outputId": "f667e33d-ed7a-481e-aa16-d9b37665b3a2"
      },
      "execution_count": 1,
      "outputs": [
        {
          "output_type": "stream",
          "name": "stdout",
          "text": [
            "Enter the length and width of the rectangle:\n",
            "Length: 10\n",
            "Width: 5\n",
            "The area of the rectangle is: 50.0\n"
          ]
        }
      ]
    },
    {
      "cell_type": "markdown",
      "source": [
        "(2) Create a Python program that interactively takes two numerical inputs from the user and swaps their values without utilizing an extra variable."
      ],
      "metadata": {
        "id": "E9RqrlwdTfvl"
      }
    },
    {
      "cell_type": "code",
      "source": [
        "def main():\n",
        "    print(\"Enter two numbers to swap their values:\")\n",
        "    num1 = float(input(\"Number 1: \"))\n",
        "    num2 = float(input(\"Number 2: \"))\n",
        "\n",
        "    print(\"\\nBefore swapping:\")\n",
        "    print(\"Number 1:\", num1)\n",
        "    print(\"Number 2:\", num2)\n",
        "\n",
        "    num1 = num1 + num2\n",
        "    num2 = num1 - num2\n",
        "    num1 = num1 - num2\n",
        "\n",
        "    print(\"\\nAfter swapping:\")\n",
        "    print(\"Number 1:\", num1)\n",
        "    print(\"Number 2:\", num2)\n",
        "\n",
        "if __name__ == \"__main__\":\n",
        "    main()\n"
      ],
      "metadata": {
        "id": "4XvRknixTh1g",
        "colab": {
          "base_uri": "https://localhost:8080/"
        },
        "outputId": "016204f2-c447-4755-c191-214a89d0b78a"
      },
      "execution_count": 2,
      "outputs": [
        {
          "output_type": "stream",
          "name": "stdout",
          "text": [
            "Enter two numbers to swap their values:\n",
            "Number 1: 10\n",
            "Number 2: 20\n",
            "\n",
            "Before swapping:\n",
            "Number 1: 10.0\n",
            "Number 2: 20.0\n",
            "\n",
            "After swapping:\n",
            "Number 1: 20.0\n",
            "Number 2: 10.0\n"
          ]
        }
      ]
    },
    {
      "cell_type": "markdown",
      "metadata": {
        "id": "03jb4GZsBkBS"
      },
      "source": [
        "(3) Write a Python script to determine and print the length of a user-input string."
      ]
    },
    {
      "cell_type": "code",
      "execution_count": 3,
      "metadata": {
        "id": "YaGLbSHHB8Ej",
        "colab": {
          "base_uri": "https://localhost:8080/"
        },
        "outputId": "bdb18f95-8809-41a4-f4a0-7b5bc9b64acb"
      },
      "outputs": [
        {
          "output_type": "stream",
          "name": "stdout",
          "text": [
            "Enter a string: Koushik\n",
            "Length of the string: 7\n"
          ]
        }
      ],
      "source": [
        "def main():\n",
        "    user_input = input(\"Enter a string: \")\n",
        "    length = len(user_input)\n",
        "    print(\"Length of the string:\", length)\n",
        "\n",
        "if __name__ == \"__main__\":\n",
        "    main()\n"
      ]
    },
    {
      "cell_type": "markdown",
      "metadata": {
        "id": "jJDe71iLB616"
      },
      "source": [
        "(4) Construct a Python program that counts and displays the occurrences of each character in a given string.\n",
        "\n",
        "Sample String: 'openai.ai',\n",
        "\n",
        "Expected Result: {'a': 2, 'i': 2, '.': 1, 'o': 1, 'p': 1, 'e': 1, 'n': 1}"
      ]
    },
    {
      "cell_type": "code",
      "execution_count": null,
      "metadata": {
        "id": "MtKskTzbCLaU",
        "colab": {
          "base_uri": "https://localhost:8080/"
        },
        "outputId": "932c0ed6-c08b-4d81-c0d9-7b04e1abaab5"
      },
      "outputs": [
        {
          "output_type": "stream",
          "name": "stdout",
          "text": [
            "Enter a string: openai.ai\n",
            "Occurrences of each character:\n",
            "{'o': 1, 'p': 1, 'e': 1, 'n': 1, 'a': 2, 'i': 2, '.': 1}\n"
          ]
        }
      ],
      "source": [
        "\n",
        "def count_characters(input_string):\n",
        "    char_count = {}\n",
        "    for char in input_string:\n",
        "        if char in char_count:\n",
        "            char_count[char] += 1\n",
        "        else:\n",
        "            char_count[char] = 1\n",
        "    return char_count\n",
        "\n",
        "def main():\n",
        "    sample_string = input(\"Enter a string: \")\n",
        "    result = count_characters(sample_string)\n",
        "    print(\"Occurrences of each character:\")\n",
        "    print(result)\n",
        "\n",
        "if __name__ == \"__main__\":\n",
        "    main()"
      ]
    },
    {
      "cell_type": "markdown",
      "metadata": {
        "id": "55W9AMdXCSpV"
      },
      "source": [
        "(5) Design a Python code to calculate the sum of all elements in a user-provided list."
      ]
    },
    {
      "cell_type": "code",
      "execution_count": 4,
      "metadata": {
        "id": "I57NXsauCec2",
        "colab": {
          "base_uri": "https://localhost:8080/"
        },
        "outputId": "a8357dc7-b705-456f-9340-bcf038b77542"
      },
      "outputs": [
        {
          "output_type": "stream",
          "name": "stdout",
          "text": [
            "Enter a list of numbers separated by commas (e.g., 1,2,3): 3,5,8\n",
            "Sum of all elements in the list: 16.0\n"
          ]
        }
      ],
      "source": [
        "def calculate_sum(numbers):\n",
        "    total = 0\n",
        "    for num in numbers:\n",
        "        total += num\n",
        "    return total\n",
        "\n",
        "def main():\n",
        "    user_input = input(\"Enter a list of numbers separated by commas (e.g., 1,2,3): \")\n",
        "    numbers = [float(x) for x in user_input.split(',')]\n",
        "    total_sum = calculate_sum(numbers)\n",
        "    print(\"Sum of all elements in the list:\", total_sum)\n",
        "\n",
        "if __name__ == \"__main__\":\n",
        "    main()\n"
      ]
    },
    {
      "cell_type": "markdown",
      "metadata": {
        "id": "4ulBZ6yhCi9F"
      },
      "source": [
        "(6) Write a Python program that modifies a given string by replacing all occurrences of its first character with '$', excluding the first character itself.\n",
        "\n",
        "\n",
        "Sample String : 'restart‘,\n",
        "\n",
        "Expected Result : 'resta\\$t'"
      ]
    },
    {
      "cell_type": "code",
      "execution_count": null,
      "metadata": {
        "id": "Fj0XhwbBCw2o",
        "colab": {
          "base_uri": "https://localhost:8080/"
        },
        "outputId": "2479ced4-2d38-4450-a15d-ca5c7645f147"
      },
      "outputs": [
        {
          "output_type": "stream",
          "name": "stdout",
          "text": [
            "Enter a string: restart\n",
            "Modified string: resta$t\n"
          ]
        }
      ],
      "source": [
        "def modify_string(input_string):\n",
        "    if len(input_string) < 2:\n",
        "        return input_string\n",
        "\n",
        "    first_char = input_string[0]\n",
        "    modified_string = first_char + input_string[1:].replace(first_char, '$')\n",
        "    return modified_string\n",
        "\n",
        "def main():\n",
        "    sample_string = input(\"Enter a string: \")\n",
        "    result = modify_string(sample_string)\n",
        "    print(\"Modified string:\", result)\n",
        "\n",
        "if __name__ == \"__main__\":\n",
        "    main()"
      ]
    },
    {
      "cell_type": "markdown",
      "source": [
        "(7) Write a Python program using a while loop to compute the factorial of a user-supplied number."
      ],
      "metadata": {
        "id": "qVXA3q7ET5JI"
      }
    },
    {
      "cell_type": "code",
      "source": [
        "def compute_factorial(n):\n",
        "    factorial = 1\n",
        "    while n > 1:\n",
        "        factorial *= n\n",
        "        n -= 1\n",
        "    return factorial\n",
        "\n",
        "def main():\n",
        "    try:\n",
        "        number = int(input(\"Enter a number to compute its factorial: \"))\n",
        "        if number < 0:\n",
        "            print(\"Factorial is not defined for negative numbers.\")\n",
        "        else:\n",
        "            factorial = compute_factorial(number)\n",
        "            print(f\"The factorial of {number} is: {factorial}\")\n",
        "    except ValueError:\n",
        "        print(\"Invalid input. Please enter an integer.\")\n",
        "\n",
        "if __name__ == \"__main__\":\n",
        "    main()"
      ],
      "metadata": {
        "id": "Lbt7R6UkT7BA",
        "colab": {
          "base_uri": "https://localhost:8080/"
        },
        "outputId": "ad8fbcf5-900d-4c4d-eba4-0ae7b01859dc"
      },
      "execution_count": null,
      "outputs": [
        {
          "output_type": "stream",
          "name": "stdout",
          "text": [
            "Enter a number to compute its factorial: 10\n",
            "The factorial of 10 is: 3628800\n"
          ]
        }
      ]
    },
    {
      "cell_type": "markdown",
      "source": [
        "(8) Create a program that accepts a list of numbers as input and outputs a new list containing only the even numbers."
      ],
      "metadata": {
        "id": "6YfbzXMNT--R"
      }
    },
    {
      "cell_type": "code",
      "source": [
        "def filter_even_numbers(input_list):\n",
        "    even_numbers = [num for num in input_list if num % 2 == 0]\n",
        "    return even_numbers\n",
        "\n",
        "def main():\n",
        "    try:\n",
        "        input_list = input(\"Enter a list of numbers separated by spaces: \").split()\n",
        "        input_list = [int(num) for num in input_list]\n",
        "        even_numbers = filter_even_numbers(input_list)\n",
        "        print(\"Even numbers in the list:\", even_numbers)\n",
        "    except ValueError:\n",
        "        print(\"Invalid input. Please enter numbers separated by spaces.\")\n",
        "\n",
        "if __name__ == \"__main__\":\n",
        "    main()"
      ],
      "metadata": {
        "id": "54q7wMQPUAKu",
        "colab": {
          "base_uri": "https://localhost:8080/"
        },
        "outputId": "e5d610c0-c470-47fc-9fad-4d44848adb6d"
      },
      "execution_count": null,
      "outputs": [
        {
          "output_type": "stream",
          "name": "stdout",
          "text": [
            "Enter a list of numbers separated by spaces: 1 2 3 4 5 6 7 8 9\n",
            "Even numbers in the list: [2, 4, 6, 8]\n"
          ]
        }
      ]
    },
    {
      "cell_type": "markdown",
      "metadata": {
        "id": "_bIP7s1MCzue"
      },
      "source": [
        "\n",
        "(9) Design a Python function to check if a number is prime.\n"
      ]
    },
    {
      "cell_type": "code",
      "execution_count": null,
      "metadata": {
        "id": "w79QilHXD3Mg",
        "colab": {
          "base_uri": "https://localhost:8080/"
        },
        "outputId": "fcf7e4a4-ddc2-43d4-a6da-1987f901985a"
      },
      "outputs": [
        {
          "output_type": "stream",
          "name": "stdout",
          "text": [
            "Enter a number to check if it's prime: 27\n",
            "27 is not a prime number.\n"
          ]
        }
      ],
      "source": [
        "def is_prime(number):\n",
        "    if number <= 1:\n",
        "        return False\n",
        "    elif number <= 3:\n",
        "        return True\n",
        "    elif number % 2 == 0 or number % 3 == 0:\n",
        "        return False\n",
        "    i = 5\n",
        "    while i * i <= number:\n",
        "        if number % i == 0 or number % (i + 2) == 0:\n",
        "            return False\n",
        "        i += 6\n",
        "    return True\n",
        "\n",
        "def main():\n",
        "    try:\n",
        "        num = int(input(\"Enter a number to check if it's prime: \"))\n",
        "        if is_prime(num):\n",
        "            print(f\"{num} is a prime number.\")\n",
        "        else:\n",
        "            print(f\"{num} is not a prime number.\")\n",
        "    except ValueError:\n",
        "        print(\"Invalid input. Please enter an integer.\")\n",
        "\n",
        "if __name__ == \"__main__\":\n",
        "    main()\n"
      ]
    },
    {
      "cell_type": "markdown",
      "metadata": {
        "id": "xCa2bK9aD4Q3"
      },
      "source": [
        "(10) Write a Python program to concatenate following dictionaries to create a new one.\n",
        "\n",
        "Sample Dictionary : dic1={1:10, 2:20}, dic2={3:30, 4:40}, dic3={5:50,6:60},\n",
        "\n",
        "Expected Result : {1: 10, 2: 20, 3: 30, 4: 40, 5: 50, 6: 60}\n"
      ]
    },
    {
      "cell_type": "code",
      "execution_count": null,
      "metadata": {
        "id": "_z4aLqAbEET1",
        "colab": {
          "base_uri": "https://localhost:8080/"
        },
        "outputId": "f919414c-2d75-4370-e691-645c958b0aef"
      },
      "outputs": [
        {
          "output_type": "stream",
          "name": "stdout",
          "text": [
            "Enter the first dictionary: {1:10,2:20}\n",
            "Enter the second dictionary: {3:30,4:40}\n",
            "Enter the third dictionary: {5:50,6:60}\n",
            "Concatenated dictionary: {1: 10, 2: 20, 3: 30, 4: 40, 5: 50, 6: 60}\n"
          ]
        }
      ],
      "source": [
        "def concatenate_dicts(*dicts):\n",
        "    result = {}\n",
        "    for d in dicts:\n",
        "        result.update(d)\n",
        "    return result\n",
        "\n",
        "def main():\n",
        "    try:\n",
        "        dic1 = eval(input(\"Enter the first dictionary: \"))\n",
        "        dic2 = eval(input(\"Enter the second dictionary: \"))\n",
        "        dic3 = eval(input(\"Enter the third dictionary: \"))\n",
        "        concatenated_dict = concatenate_dicts(dic1, dic2, dic3)\n",
        "        print(\"Concatenated dictionary:\", concatenated_dict)\n",
        "    except SyntaxError:\n",
        "        print(\"Invalid input. Please enter dictionaries in the format {key1: value1, key2: value2, ...}\")\n",
        "\n",
        "if __name__ == \"__main__\":\n",
        "    main()\n"
      ]
    },
    {
      "cell_type": "markdown",
      "source": [
        "(11) Design a Python function that takes a tuple of integers as input and returns the largest and smallest elements."
      ],
      "metadata": {
        "id": "bkyZ2xSZUOst"
      }
    },
    {
      "cell_type": "code",
      "source": [
        "def find_max_min(input_tuple):\n",
        "    if not input_tuple:\n",
        "        return None, None\n",
        "\n",
        "    max_num = min_num = input_tuple[0]\n",
        "    for num in input_tuple:\n",
        "        if num > max_num:\n",
        "            max_num = num\n",
        "        elif num < min_num:\n",
        "            min_num = num\n",
        "    return max_num, min_num\n",
        "\n",
        "def main():\n",
        "    try:\n",
        "        input_tuple = tuple(map(int, input(\"Enter a tuple of integers separated by spaces: \").split()))\n",
        "        max_num, min_num = find_max_min(input_tuple)\n",
        "        if max_num is None:\n",
        "            print(\"Empty tuple.\")\n",
        "        else:\n",
        "            print(\"Largest element:\", max_num)\n",
        "            print(\"Smallest element:\", min_num)\n",
        "    except ValueError:\n",
        "        print(\"Invalid input. Please enter integers separated by spaces.\")\n",
        "\n",
        "if __name__ == \"__main__\":\n",
        "    main()\n"
      ],
      "metadata": {
        "id": "3FdLRBKOUQEd",
        "colab": {
          "base_uri": "https://localhost:8080/"
        },
        "outputId": "9493c08c-74de-4a7b-d76d-3ed4cc11b1fc"
      },
      "execution_count": null,
      "outputs": [
        {
          "output_type": "stream",
          "name": "stdout",
          "text": [
            "Enter a tuple of integers separated by spaces: 10 20 30 40\n",
            "Largest element: 40\n",
            "Smallest element: 10\n"
          ]
        }
      ]
    },
    {
      "cell_type": "markdown",
      "source": [
        "(12) Write a Python program that counts the frequency of each character in a given string and stores it in a dictionary."
      ],
      "metadata": {
        "id": "O0TVi3gKUTpp"
      }
    },
    {
      "cell_type": "code",
      "source": [
        "def count_character_frequency(input_string):\n",
        "    char_frequency = {}\n",
        "    for char in input_string:\n",
        "        if char in char_frequency:\n",
        "            char_frequency[char] += 1\n",
        "        else:\n",
        "            char_frequency[char] = 1\n",
        "    return char_frequency\n",
        "\n",
        "def main():\n",
        "    input_string = input(\"Enter a string: \")\n",
        "    frequency_dict = count_character_frequency(input_string)\n",
        "    print(\"Character frequency:\")\n",
        "    for char, frequency in frequency_dict.items():\n",
        "        print(f\"'{char}': {frequency}\")\n",
        "\n",
        "if __name__ == \"__main__\":\n",
        "    main()\n"
      ],
      "metadata": {
        "id": "lAtfSfZXUU-h",
        "colab": {
          "base_uri": "https://localhost:8080/"
        },
        "outputId": "285d3eb2-9d83-41a5-a6db-ad4e93e63d62"
      },
      "execution_count": null,
      "outputs": [
        {
          "output_type": "stream",
          "name": "stdout",
          "text": [
            "Enter a string: koushik\n",
            "Character frequency:\n",
            "'k': 2\n",
            "'o': 1\n",
            "'u': 1\n",
            "'s': 1\n",
            "'h': 1\n",
            "'i': 1\n"
          ]
        }
      ]
    },
    {
      "cell_type": "markdown",
      "metadata": {
        "id": "0v48Vqa7FrQh"
      },
      "source": [
        "(13) Implement a Python script to identify duplicate elements in a provided array of integers. Return -1 if there are no duplicates."
      ]
    },
    {
      "cell_type": "code",
      "execution_count": null,
      "metadata": {
        "id": "7WEmgq-DF2P1",
        "colab": {
          "base_uri": "https://localhost:8080/"
        },
        "outputId": "21c0f65a-1440-4a0d-91f6-19aca7f3cc46"
      },
      "outputs": [
        {
          "output_type": "stream",
          "name": "stdout",
          "text": [
            "Enter an array of integers separated by spaces: 2 4 7 8 10\n",
            "No duplicates found.\n"
          ]
        }
      ],
      "source": [
        "def find_duplicates(arr):\n",
        "    seen = set()\n",
        "    duplicates = set()\n",
        "    for num in arr:\n",
        "        if num in seen:\n",
        "            duplicates.add(num)\n",
        "        else:\n",
        "            seen.add(num)\n",
        "    if not duplicates:\n",
        "        return -1\n",
        "    else:\n",
        "        return list(duplicates)\n",
        "\n",
        "def main():\n",
        "    try:\n",
        "        input_array = list(map(int, input(\"Enter an array of integers separated by spaces: \").split()))\n",
        "        result = find_duplicates(input_array)\n",
        "        if result == -1:\n",
        "            print(\"No duplicates found.\")\n",
        "        else:\n",
        "            print(\"Duplicate elements:\", result)\n",
        "    except ValueError:\n",
        "        print(\"Invalid input. Please enter integers separated by spaces.\")\n",
        "\n",
        "if __name__ == \"__main__\":\n",
        "    main()"
      ]
    },
    {
      "cell_type": "markdown",
      "metadata": {
        "id": "vD5PYLMuGga_"
      },
      "source": [
        "(14) Write a Python script to find the common elements between two lists."
      ]
    },
    {
      "cell_type": "code",
      "execution_count": 5,
      "metadata": {
        "id": "t0D5kdJUGjjw",
        "colab": {
          "base_uri": "https://localhost:8080/"
        },
        "outputId": "59b9b289-cb6e-45e4-b891-69836e7ffe14"
      },
      "outputs": [
        {
          "output_type": "stream",
          "name": "stdout",
          "text": [
            "Enter elements of the first list separated by spaces: 1 2 4 6 7 8\n",
            "Enter elements of the second list separated by spaces: 2 6 9 10\n",
            "Common elements between the lists: ['2', '6']\n"
          ]
        }
      ],
      "source": [
        "def find_common_elements(list1, list2):\n",
        "    set1 = set(list1)\n",
        "    set2 = set(list2)\n",
        "    common_elements = set1.intersection(set2)\n",
        "    return list(common_elements)\n",
        "\n",
        "def main():\n",
        "    list1 = input(\"Enter elements of the first list separated by spaces: \").split()\n",
        "    list2 = input(\"Enter elements of the second list separated by spaces: \").split()\n",
        "\n",
        "    common_elements = find_common_elements(list1, list2)\n",
        "\n",
        "    if common_elements:\n",
        "        print(\"Common elements between the lists:\", common_elements)\n",
        "    else:\n",
        "        print(\"There are no common elements between the lists.\")\n",
        "\n",
        "if __name__ == \"__main__\":\n",
        "    main()\n",
        "\n"
      ]
    },
    {
      "cell_type": "markdown",
      "metadata": {
        "id": "uHkd-y5VhVWC"
      },
      "source": [
        "(15) Write a Python program to randomly divide the students in this class into six groups for term projects, each group should have at least 4 students but no more than 6 students (including 6).\n",
        "\n",
        "Here is the students list:\n",
        "\n",
        "student_list_spring_2024=[rb0846,\n",
        "ac1964,\n",
        "hc0612,\n",
        "md0912,\n",
        "ad1198,\n",
        "md0894,\n",
        "md0825,\n",
        "vg0598,\n",
        "vg0433,\n",
        "mh1068,\n",
        "yj0173,\n",
        "pk0553,\n",
        "tk0411,\n",
        "srk0204,\n",
        "sk2922,\n",
        "sk2936,\n",
        "mk1302,\n",
        "mk1317,\n",
        "tk0412,\n",
        "vk0656,\n",
        "sm2985,\n",
        "mm2372,\n",
        "un0045,\n",
        "an0892,\n",
        "sn0913,\n",
        "gp0252,\n",
        "ap1484,\n",
        "mr1765,\n",
        "sr1385,\n",
        "sr1335,\n",
        "hs0665,\n",
        "ms2060,\n",
        "gt0217,\n",
        "nt0385,\n",
        "tv0186,\n",
        "sv1394,\n",
        "sv1752,\n",
        "sv1555,\n",
        "sy0594\n",
        "]\n"
      ]
    },
    {
      "cell_type": "code",
      "execution_count": 7,
      "metadata": {
        "id": "3iGbmcOBhTwy",
        "colab": {
          "base_uri": "https://localhost:8080/"
        },
        "outputId": "3a97d39b-bb3c-4eb4-8f2e-84253db25ea2"
      },
      "outputs": [
        {
          "output_type": "stream",
          "name": "stdout",
          "text": [
            "Group 1: tk0412, srk0204, mr1765, sv1752, sn0913, nt0385, yj0173\n",
            "Group 2: vg0433, hs0665, tk0411, ad1198, tv0186, mk1302, sr1335\n",
            "Group 3: md0825, ms2060, sv1555, md0912, mk1317, mh1068, sr1385\n",
            "Group 4: sk2936, sv1394, gt0217, mm2372, un0045, rb0846\n",
            "Group 5: md0894, sm2985, sk2922, pk0553, sy0594, ac1964\n",
            "Group 6: ap1484, hc0612, vg0598, gp0252, vk0656, an0892\n"
          ]
        }
      ],
      "source": [
        "import random\n",
        "\n",
        "def divide_into_groups(student_list):\n",
        "    random.shuffle(student_list)  # Shuffle the student list randomly\n",
        "    group_size = len(student_list) // 6  # Calculate the ideal group size\n",
        "    remainder = len(student_list) % 6  # Calculate the remainder\n",
        "    groups = []\n",
        "    start = 0\n",
        "    for i in range(6):\n",
        "        if i < remainder:\n",
        "            end = start + group_size + 1\n",
        "        else:\n",
        "            end = start + group_size\n",
        "        groups.append(student_list[start:end])\n",
        "        start = end\n",
        "    return groups\n",
        "\n",
        "def main():\n",
        "    student_list_spring_2024 = [\n",
        "        'rb0846', 'ac1964', 'hc0612', 'md0912', 'ad1198', 'md0894', 'md0825', 'vg0598', 'vg0433', 'mh1068', 'yj0173',\n",
        "        'pk0553', 'tk0411', 'srk0204', 'sk2922', 'sk2936', 'mk1302', 'mk1317', 'tk0412', 'vk0656', 'sm2985', 'mm2372',\n",
        "        'un0045', 'an0892', 'sn0913', 'gp0252', 'ap1484', 'mr1765', 'sr1385', 'sr1335', 'hs0665', 'ms2060', 'gt0217',\n",
        "        'nt0385', 'tv0186', 'sv1394', 'sv1752', 'sv1555', 'sy0594'\n",
        "    ]\n",
        "\n",
        "    groups = divide_into_groups(student_list_spring_2024)\n",
        "\n",
        "    for i, group in enumerate(groups, start=1):\n",
        "        print(f\"Group {i}: {', '.join(group)}\")\n",
        "\n",
        "if __name__ == \"__main__\":\n",
        "    main()\n",
        "\n",
        "#There are total 39 students. So, if we have maximum capacity in all 6 groups the number of students will be 6*6 = 36. 3 students\n",
        "#will be unallocated based on the given conditions. Either we should have one more group or increase the per group cap.\n"
      ]
    },
    {
      "cell_type": "markdown",
      "metadata": {
        "id": "fmZ9vX20Qs3d"
      },
      "source": [
        "(16) Create a program that takes a positive integer 'n' as input and prints the count of even numbers from 1 to 'n'. Optimize the loop using the break statement."
      ]
    },
    {
      "cell_type": "code",
      "execution_count": 8,
      "metadata": {
        "id": "W8Jw6sWMQs3d",
        "colab": {
          "base_uri": "https://localhost:8080/"
        },
        "outputId": "010f8a98-20d4-4671-f2d0-2a62a79f8f67"
      },
      "outputs": [
        {
          "output_type": "stream",
          "name": "stdout",
          "text": [
            "Enter a positive integer: 98\n",
            "Count of even numbers from 1 to 98 : 49\n"
          ]
        }
      ],
      "source": [
        "def count_even_numbers(n):\n",
        "    count = 0\n",
        "    for i in range(1, n + 1):\n",
        "        if i % 2 == 0:\n",
        "            count += 1\n",
        "        if i > n:  # Exit the loop if the current number exceeds 'n'\n",
        "            break\n",
        "    return count\n",
        "\n",
        "def main():\n",
        "    n = int(input(\"Enter a positive integer: \"))\n",
        "    if n <= 0:\n",
        "        print(\"Please enter a positive integer.\")\n",
        "    else:\n",
        "        even_count = count_even_numbers(n)\n",
        "        print(\"Count of even numbers from 1 to\", n, \":\", even_count)\n",
        "\n",
        "if __name__ == \"__main__\":\n",
        "    main()\n",
        "\n"
      ]
    },
    {
      "cell_type": "markdown",
      "metadata": {
        "id": "hvq4APMhQs3d"
      },
      "source": [
        "(17) Develop a Python function called 'count_vowels' that takes a string as input and returns the count of vowels (both lowercase and uppercase) present in the string, ignoring spaces and non-alphabetic characters."
      ]
    },
    {
      "cell_type": "code",
      "execution_count": 9,
      "metadata": {
        "id": "ZnoxhSglQs3d",
        "colab": {
          "base_uri": "https://localhost:8080/"
        },
        "outputId": "ed7a2081-f14f-4a04-d03c-b98635603125"
      },
      "outputs": [
        {
          "output_type": "stream",
          "name": "stdout",
          "text": [
            "Enter a string: My name is Sai Koushik Valluri\n",
            "Count of vowels in the string: 11\n"
          ]
        }
      ],
      "source": [
        "def count_vowels(input_string):\n",
        "    vowels = 'aeiouAEIOU'\n",
        "    count = 0\n",
        "    for char in input_string:\n",
        "        if char.isalpha() and char in vowels:\n",
        "            count += 1\n",
        "    return count\n",
        "\n",
        "# Test the function\n",
        "input_string = input(\"Enter a string: \")\n",
        "vowel_count = count_vowels(input_string)\n",
        "print(\"Count of vowels in the string:\", vowel_count)\n"
      ]
    },
    {
      "cell_type": "markdown",
      "source": [
        "(18) Create a custom exception named ValueTooSmallError in Python. Write a program that takes user input for an age, and if the entered age is less than 18, raise the ValueTooSmallError with an appropriate error message."
      ],
      "metadata": {
        "id": "55FWoSJPVVM6"
      }
    },
    {
      "cell_type": "code",
      "source": [
        "class ValueTooSmallError(Exception):\n",
        "    pass\n",
        "\n",
        "def get_age():\n",
        "    age = int(input(\"Enter your age: \"))\n",
        "    if age < 18:\n",
        "        raise ValueTooSmallError(\"Age must be 18 or older.\")\n",
        "    return age\n",
        "\n",
        "def main():\n",
        "    try:\n",
        "        age = get_age()\n",
        "        print(\"Your age is:\", age)\n",
        "    except ValueTooSmallError as e:\n",
        "        print(\"Error:\", e)\n",
        "\n",
        "if __name__ == \"__main__\":\n",
        "    main()\n"
      ],
      "metadata": {
        "id": "hwtr1wZmVX5A",
        "colab": {
          "base_uri": "https://localhost:8080/"
        },
        "outputId": "62ee55b8-be06-499b-f2da-48870c1ad6d6"
      },
      "execution_count": 10,
      "outputs": [
        {
          "output_type": "stream",
          "name": "stdout",
          "text": [
            "Enter your age: 16\n",
            "Error: Age must be 18 or older.\n"
          ]
        }
      ]
    },
    {
      "cell_type": "markdown",
      "source": [
        "(19) Develop a script that reverses a given string without using built-in reverse functions."
      ],
      "metadata": {
        "id": "Q9ecagcaVazW"
      }
    },
    {
      "cell_type": "code",
      "source": [
        "def reverse_string(input_string):\n",
        "    reversed_str = ''\n",
        "    for char in input_string[::-1]:\n",
        "        reversed_str += char\n",
        "    return reversed_str\n",
        "\n",
        "def main():\n",
        "    input_string = input(\"Enter a string: \")\n",
        "    reversed_string = reverse_string(input_string)\n",
        "    print(\"Reversed string:\", reversed_string)\n",
        "\n",
        "if __name__ == \"__main__\":\n",
        "    main()\n",
        "\n"
      ],
      "metadata": {
        "id": "gycgckoAVZjR",
        "colab": {
          "base_uri": "https://localhost:8080/"
        },
        "outputId": "a682e41f-b029-4678-b658-3b31d52fcff5"
      },
      "execution_count": 11,
      "outputs": [
        {
          "output_type": "stream",
          "name": "stdout",
          "text": [
            "Enter a string: North Texas\n",
            "Reversed string: saxeT htroN\n"
          ]
        }
      ]
    },
    {
      "cell_type": "markdown",
      "source": [
        "(20) Implement a Python script to generate a random password of a specified length."
      ],
      "metadata": {
        "id": "ZFG6RibifMLu"
      }
    },
    {
      "cell_type": "code",
      "source": [
        "import random\n",
        "import string\n",
        "\n",
        "def generate_random_password(length):\n",
        "    # Define the pool of characters to choose from\n",
        "    characters = string.ascii_letters + string.digits + string.punctuation\n",
        "\n",
        "    # Generate the random password by randomly selecting characters from the pool\n",
        "    password = ''.join(random.choice(characters) for _ in range(length))\n",
        "\n",
        "    return password\n",
        "\n",
        "def main():\n",
        "    length = int(input(\"Enter the length of the password: \"))\n",
        "    if length <= 0:\n",
        "        print(\"Please enter a positive length.\")\n",
        "    else:\n",
        "        random_password = generate_random_password(length)\n",
        "        print(\"Random password:\", random_password)\n",
        "\n",
        "if __name__ == \"__main__\":\n",
        "    main()\n"
      ],
      "metadata": {
        "id": "BFVrkEi9fNiD",
        "colab": {
          "base_uri": "https://localhost:8080/"
        },
        "outputId": "dac4b1df-cbd7-4cab-a4f6-fb2a5b0fd142"
      },
      "execution_count": 12,
      "outputs": [
        {
          "output_type": "stream",
          "name": "stdout",
          "text": [
            "Enter the length of the password: 10\n",
            "Random password: )_Y#D(-P_P\n"
          ]
        }
      ]
    },
    {
      "cell_type": "markdown",
      "source": [
        "# Try these questions:"
      ],
      "metadata": {
        "id": "6SmvS7nSfbj8"
      }
    },
    {
      "cell_type": "markdown",
      "source": [
        "(21) Define a base class called 'Vehicle' with attributes make and model. Create a derived class Car that inherits from Vehicle and has an additional attribute 'num_doors'. Demonstrate an example of creating an instance of the 'Car' class and accessing its attributes."
      ],
      "metadata": {
        "id": "cboAr5pEWUf5"
      }
    },
    {
      "cell_type": "code",
      "source": [
        "class Vehicle:\n",
        "    def __init__(self, make, model):\n",
        "        self.make = make\n",
        "        self.model = model\n",
        "\n",
        "class Car(Vehicle):\n",
        "    def __init__(self, make, model, num_doors):\n",
        "        super().__init__(make, model)\n",
        "        self.num_doors = num_doors\n",
        "\n",
        "def main():\n",
        "    # Creating an instance of the Car class\n",
        "    my_car = Car(\"Toyota\", \"Camry\", 4)\n",
        "\n",
        "    # Accessing attributes of the Car instance\n",
        "    print(\"Make:\", my_car.make)\n",
        "    print(\"Model:\", my_car.model)\n",
        "    print(\"Number of doors:\", my_car.num_doors)\n",
        "\n",
        "if __name__ == \"__main__\":\n",
        "    main()\n",
        "\n"
      ],
      "metadata": {
        "id": "phs9gciMWWAW",
        "colab": {
          "base_uri": "https://localhost:8080/"
        },
        "outputId": "e88aec8e-d233-451a-e246-865fe5fe1545"
      },
      "execution_count": 13,
      "outputs": [
        {
          "output_type": "stream",
          "name": "stdout",
          "text": [
            "Make: Toyota\n",
            "Model: Camry\n",
            "Number of doors: 4\n"
          ]
        }
      ]
    },
    {
      "cell_type": "markdown",
      "source": [
        "(22) Create a class called 'Shape' with a method calculate_area(). Implement two derived classes 'Circle' and 'Rectangle' that inherit from Shape and override the calculate_area() method. Demonstrate polymorphism by creating instances of both derived classes and calling the calculate_area() method."
      ],
      "metadata": {
        "id": "J8HHefNtePwd"
      }
    },
    {
      "cell_type": "code",
      "source": [
        "import math\n",
        "\n",
        "class Shape:\n",
        "    def calculate_area(self):\n",
        "        pass\n",
        "\n",
        "class Circle(Shape):\n",
        "    def __init__(self, radius):\n",
        "        self.radius = radius\n",
        "\n",
        "    def calculate_area(self):\n",
        "        return math.pi * self.radius**2\n",
        "\n",
        "class Rectangle(Shape):\n",
        "    def __init__(self, width, height):\n",
        "        self.width = width\n",
        "        self.height = height\n",
        "\n",
        "    def calculate_area(self):\n",
        "        return self.width * self.height\n",
        "\n",
        "def main():\n",
        "    # Creating instances of Circle and Rectangle\n",
        "    circle = Circle(5)\n",
        "    rectangle = Rectangle(4, 6)\n",
        "\n",
        "    # Calculating and printing the area of Circle\n",
        "    print(\"Area of Circle:\", circle.calculate_area())\n",
        "\n",
        "    # Calculating and printing the area of Rectangle\n",
        "    print(\"Area of Rectangle:\", rectangle.calculate_area())\n",
        "\n",
        "if __name__ == \"__main__\":\n",
        "    main()\n"
      ],
      "metadata": {
        "id": "btnMmUZDeRhS",
        "colab": {
          "base_uri": "https://localhost:8080/"
        },
        "outputId": "63ddc5c7-ba05-4912-906c-945c9407ffd3"
      },
      "execution_count": 14,
      "outputs": [
        {
          "output_type": "stream",
          "name": "stdout",
          "text": [
            "Area of Circle: 78.53981633974483\n",
            "Area of Rectangle: 24\n"
          ]
        }
      ]
    },
    {
      "cell_type": "markdown",
      "source": [
        "(23) Write a Python program that prompts the user to enter two numbers and perform a division operation. Handle exceptions for both zero division and invalid input (non-numeric input). Display appropriate error messages for each type of exception and ensure the program does not crash due to these errors."
      ],
      "metadata": {
        "id": "z0oqEAlTeMUS"
      }
    },
    {
      "cell_type": "code",
      "source": [
        "def divide_numbers():\n",
        "    try:\n",
        "        num1 = float(input(\"Enter the first number: \"))\n",
        "        num2 = float(input(\"Enter the second number: \"))\n",
        "        result = num1 / num2\n",
        "        print(\"Result of division:\", result)\n",
        "    except ValueError:\n",
        "        print(\"Error: Please enter numeric values only.\")\n",
        "    except ZeroDivisionError:\n",
        "        print(\"Error: Division by zero is not allowed.\")\n",
        "\n",
        "def main():\n",
        "    divide_numbers()\n",
        "\n",
        "if __name__ == \"__main__\":\n",
        "    main()\n"
      ],
      "metadata": {
        "id": "yjdc1zM1eMAs",
        "colab": {
          "base_uri": "https://localhost:8080/"
        },
        "outputId": "aa9d8609-d9a6-430f-c323-4d6bf29039d9"
      },
      "execution_count": 15,
      "outputs": [
        {
          "output_type": "stream",
          "name": "stdout",
          "text": [
            "Enter the first number: 2\n",
            "Enter the second number: 10\n",
            "Result of division: 0.2\n"
          ]
        }
      ]
    },
    {
      "cell_type": "markdown",
      "source": [
        "# Mandatory Question"
      ],
      "metadata": {
        "id": "sZOhks1dXWEe"
      }
    },
    {
      "cell_type": "markdown",
      "source": [
        "**Important:**\n",
        "Reflecting on the first three lectures and the exercises you've completed, please provide feedback on your learning experience. Share your thoughts on whether the material covered was clear, the exercises were helpful, and if you feel more confident in applying Python programming concepts. Additionally, mention any specific areas where you would like more clarification or topics you would like to explore further in future lectures. Your feedback is valuable in shaping the course for an effective learning journey."
      ],
      "metadata": {
        "id": "eqmHVEwaWhbV"
      }
    },
    {
      "cell_type": "markdown",
      "source": [
        "Write your response here."
      ],
      "metadata": {
        "id": "HlpXOT9wXQAd"
      }
    },
    {
      "cell_type": "markdown",
      "source": [
        "The initial three lectures and exercises provided me with a valuable learning experience in Python programming. They offered a concise overview of fundamental topics essential for starting coding in Python. Through these materials, I gained confidence in basic programming concepts. However, I still find Object-Oriented Programming (OOP) a bit challenging to grasp fully. I believe dedicating some time to delve deeper into this topic will help me gain a better understanding."
      ],
      "metadata": {
        "id": "GUbpzTMNJ4uq"
      }
    }
  ],
  "metadata": {
    "colab": {
      "provenance": []
    },
    "kernelspec": {
      "display_name": "Python 3 (ipykernel)",
      "language": "python",
      "name": "python3"
    },
    "language_info": {
      "codemirror_mode": {
        "name": "ipython",
        "version": 3
      },
      "file_extension": ".py",
      "mimetype": "text/x-python",
      "name": "python",
      "nbconvert_exporter": "python",
      "pygments_lexer": "ipython3",
      "version": "3.9.12"
    }
  },
  "nbformat": 4,
  "nbformat_minor": 0
}