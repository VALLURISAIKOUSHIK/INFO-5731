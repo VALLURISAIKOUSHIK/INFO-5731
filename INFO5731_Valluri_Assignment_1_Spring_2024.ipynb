{
  "cells": [
    {
      "cell_type": "markdown",
      "metadata": {
        "id": "view-in-github"
      },
      "source": [
        "<a href=\"https://colab.research.google.com/github/unt-iialab/INFO5731_Spring2020/blob/master/Assignments/INFO5731_Assignment_One.ipynb\" target=\"_parent\"><img src=\"https://colab.research.google.com/assets/colab-badge.svg\" alt=\"Open In Colab\"/></a>"
      ]
    },
    {
      "cell_type": "markdown",
      "metadata": {
        "id": "Ryk8D1Q4Wsrp"
      },
      "source": [
        "# **INFO5731 Assignment One**"
      ]
    },
    {
      "cell_type": "markdown",
      "source": [
        "This assignment includes range of programming tasks and data analysis exercises, aiming to enhance your Python skills and proficiency in string manipulation, numerical computations, and data science. Follow the instructions carefully and design well-structured Python programs to address each question.\n",
        "\n",
        "Late Submission will have a penalty of 10% reduction for each day after the deadline."
      ],
      "metadata": {
        "id": "qcP6re2g5A5r"
      }
    },
    {
      "cell_type": "markdown",
      "metadata": {
        "id": "JkzR8cFAyGik"
      },
      "source": [
        "# Question 1 (10 points).\n",
        "\n",
        "The formula that describes the volume V of a hemisphere with radius r is the following:\n",
        "\n",
        "$ V=\\frac{2}{3}\\ast\\ \\pi\\ast\\ r^3 $\n",
        "\n",
        "Write a program to calculate the value of V when r is in the range of even numbers from 1-20. Output the result in the following format:\n",
        "\n",
        "\tr\tV\n",
        "\t2\t…\n",
        "\t4\t…\n",
        "\t6\t…\n",
        "\t.\n",
        "\t.\n",
        "\t.\n",
        "\t20\t…\n"
      ]
    },
    {
      "cell_type": "code",
      "execution_count": 1,
      "metadata": {
        "id": "jDyTKYs-yGit",
        "colab": {
          "base_uri": "https://localhost:8080/"
        },
        "outputId": "0440b919-456a-4102-e505-833c23fa0260"
      },
      "outputs": [
        {
          "output_type": "stream",
          "name": "stdout",
          "text": [
            "r    V\n",
            "2    16.755160819145562\n",
            "4    134.0412865531645\n",
            "6    452.38934211693015\n",
            "8    1072.330292425316\n",
            "10    2094.3951023931954\n",
            "12    3619.114736935441\n",
            "14    5747.0201609669275\n",
            "16    8578.642339402528\n",
            "18    12214.512237157114\n",
            "20    16755.160819145563\n"
          ]
        }
      ],
      "source": [
        "import math\n",
        "\n",
        "def calculate_volume(r):\n",
        "    return (2/3) * math.pi * (r ** 3)\n",
        "\n",
        "def main():\n",
        "    print(\"r    V\")\n",
        "    for r in range(2, 21, 2):\n",
        "        volume = calculate_volume(r)\n",
        "        print(f\"{r}    {volume}\")\n",
        "\n",
        "if __name__ == \"__main__\":\n",
        "    main()\n",
        "\n"
      ]
    },
    {
      "cell_type": "markdown",
      "metadata": {
        "id": "90_NR8c5XGWc"
      },
      "source": [
        "# Question 2 (20 points)\n",
        "\n",
        "(a) Write a Python program to generate a sequence of 12 random numbers falling within the range of 50 to 150.\n",
        "\n",
        "(b) Arrange the generated numbers in ascending order. Display the sorted list.\n",
        "\n",
        "(c) Extend the program to arrange the numbers in descending order as well. Present the sorted list accordingly.\n",
        "\n",
        "(d) Compute and output the average of the entire group of generated numbers.\n",
        "\n",
        "(e) Enhance the program to calculate and display the average of the first 6 numbers from both the ascending and descending sorted lists."
      ]
    },
    {
      "cell_type": "code",
      "execution_count": 2,
      "metadata": {
        "id": "5QX6bJjGWXY9",
        "colab": {
          "base_uri": "https://localhost:8080/"
        },
        "outputId": "3693034a-dd42-4c92-9a5a-04abb33c8a19"
      },
      "outputs": [
        {
          "output_type": "stream",
          "name": "stdout",
          "text": [
            "Generated random numbers: [113, 139, 109, 112, 100, 85, 88, 63, 145, 100, 109, 60]\n",
            "Sorted numbers in ascending order: [60, 63, 85, 88, 100, 100, 109, 109, 112, 113, 139, 145]\n",
            "Sorted numbers in descending order: [145, 139, 113, 112, 109, 109, 100, 100, 88, 85, 63, 60]\n",
            "Average of the entire group: 101.91666666666667\n",
            "Average of the first 6 numbers (ascending order): 82.66666666666667\n",
            "Average of the first 6 numbers (descending order): 121.16666666666667\n"
          ]
        }
      ],
      "source": [
        "import random\n",
        "\n",
        "# Function to generate a sequence of random numbers\n",
        "def generate_random_numbers(n, lower_bound, upper_bound):\n",
        "    return [random.randint(lower_bound, upper_bound) for _ in range(n)]\n",
        "\n",
        "# Function to calculate average of a list of numbers\n",
        "def calculate_average(numbers):\n",
        "    return sum(numbers) / len(numbers)\n",
        "\n",
        "# Part (a)\n",
        "random_numbers = generate_random_numbers(12, 50, 150)\n",
        "print(\"Generated random numbers:\", random_numbers)\n",
        "\n",
        "# Part (b)\n",
        "sorted_numbers_asc = sorted(random_numbers)\n",
        "print(\"Sorted numbers in ascending order:\", sorted_numbers_asc)\n",
        "\n",
        "# Part (c)\n",
        "sorted_numbers_desc = sorted(random_numbers, reverse=True)\n",
        "print(\"Sorted numbers in descending order:\", sorted_numbers_desc)\n",
        "\n",
        "# Part (d)\n",
        "average = calculate_average(random_numbers)\n",
        "print(\"Average of the entire group:\", average)\n",
        "\n",
        "# Part (e)\n",
        "average_first_6_asc = calculate_average(sorted_numbers_asc[:6])\n",
        "average_first_6_desc = calculate_average(sorted_numbers_desc[:6])\n",
        "print(\"Average of the first 6 numbers (ascending order):\", average_first_6_asc)\n",
        "print(\"Average of the first 6 numbers (descending order):\", average_first_6_desc)\n",
        "\n",
        "\n"
      ]
    },
    {
      "cell_type": "markdown",
      "metadata": {
        "id": "1F_PZdH9Sh49"
      },
      "source": [
        "# Question 3 (20 points).\n",
        "\n",
        "Create a Python program that encompasses various string manipulation task:\n",
        "\n",
        "(a) Prompt the user to input two sentences.\n",
        "\n",
        "(b) Transform each sentence into a list, where each element corresponds to a word in the sentence. For example, if the sentences are \"Hello, how are you doing today?\" and \"This is an example sentence for the program!\"\n",
        "\n",
        "The program should output:\n",
        "['Hello', ',', 'how', 'are', 'you', 'doing', 'today', '?', 'This', 'is', 'an', 'example', 'sentence', 'for', 'the', 'program', '!']\n",
        "\n",
        "(c) Compare the two sentences. Print out a list of words that occur in both sentences.\n",
        "\n",
        "(d) Remove any punctuation from the sentence and print the sanitized sentences. It should remove at least the following characters, but it can remove more: period(“.”), comma (“,”), semicolon (“;”), and colon (“:”).\n",
        "\n",
        "(e) Count the number of vowels in each of the sentences. Print out each vowel and the occurrences  in the each of the two sentences separately, such as:\n",
        "\n",
        "Sentence1: a:2, e:2, i:0, etc.\n",
        "Sentence2: a:1, e:2, i:2, etc.\n",
        "\n",
        "Design a well-structured Python program to execute these tasks efficiently."
      ]
    },
    {
      "cell_type": "code",
      "execution_count": 3,
      "metadata": {
        "id": "Y0oOSlsOS0cq",
        "colab": {
          "base_uri": "https://localhost:8080/"
        },
        "outputId": "03bc3a60-8b4f-4ce8-978b-bc2fc1cdd6a7"
      },
      "outputs": [
        {
          "output_type": "stream",
          "name": "stdout",
          "text": [
            "Enter the first sentence: I am doing Masters in Data Science\n",
            "Enter the second sentence: I am looking for roles related to data science profiles\n",
            "['I', 'am', 'doing', 'Masters', 'in', 'Data', 'Science', 'I', 'am', 'looking', 'for', 'roles', 'related', 'to', 'data', 'science', 'profiles']\n",
            "Common words: ['I', 'am']\n",
            "Sanitized sentence 1: I am doing Masters in Data Science\n",
            "Sanitized sentence 2: I am looking for roles related to data science profiles\n",
            "Sentence1: a:4, e:3, i:4, o:1, u:0, A:0, E:0, I:0, O:0, U:0, \n",
            "Sentence2: a:4, e:6, i:4, o:6, u:0, A:0, E:0, I:0, O:0, U:0, \n"
          ]
        }
      ],
      "source": [
        "import string\n",
        "\n",
        "def get_sentences():\n",
        "    sentence1 = input(\"Enter the first sentence: \")\n",
        "    sentence2 = input(\"Enter the second sentence: \")\n",
        "    return sentence1, sentence2\n",
        "\n",
        "def sentence_to_word_list(sentence):\n",
        "    # Remove punctuation and split into words\n",
        "    return [word.strip(string.punctuation) for word in sentence.split()]\n",
        "\n",
        "def common_words(sentence1, sentence2):\n",
        "    words1 = set(sentence_to_word_list(sentence1))\n",
        "    words2 = set(sentence_to_word_list(sentence2))\n",
        "    return list(words1.intersection(words2))\n",
        "\n",
        "def remove_punctuation(sentence):\n",
        "    return sentence.translate(str.maketrans('', '', string.punctuation))\n",
        "\n",
        "def count_vowels(sentence):\n",
        "    vowels = 'aeiouAEIOU'\n",
        "    vowel_counts = {vowel: 0 for vowel in vowels}\n",
        "    for char in sentence:\n",
        "        if char in vowels:\n",
        "            vowel_counts[char.lower()] += 1\n",
        "    return vowel_counts\n",
        "\n",
        "def print_vowel_counts(vowel_counts, sentence_name):\n",
        "    print(f\"{sentence_name}: \", end=\"\")\n",
        "    for vowel, count in vowel_counts.items():\n",
        "        print(f\"{vowel}:{count}, \", end=\"\")\n",
        "    print()\n",
        "\n",
        "def main():\n",
        "    sentence1, sentence2 = get_sentences()\n",
        "\n",
        "    # Part (b)\n",
        "    words1 = sentence_to_word_list(sentence1)\n",
        "    words2 = sentence_to_word_list(sentence2)\n",
        "    print(words1 + words2)\n",
        "\n",
        "    # Part (c)\n",
        "    common = common_words(sentence1, sentence2)\n",
        "    print(\"Common words:\", common)\n",
        "\n",
        "    # Part (d)\n",
        "    sanitized_sentence1 = remove_punctuation(sentence1)\n",
        "    sanitized_sentence2 = remove_punctuation(sentence2)\n",
        "    print(\"Sanitized sentence 1:\", sanitized_sentence1)\n",
        "    print(\"Sanitized sentence 2:\", sanitized_sentence2)\n",
        "\n",
        "    # Part (e)\n",
        "    vowel_counts1 = count_vowels(sentence1)\n",
        "    vowel_counts2 = count_vowels(sentence2)\n",
        "    print_vowel_counts(vowel_counts1, \"Sentence1\")\n",
        "    print_vowel_counts(vowel_counts2, \"Sentence2\")\n",
        "\n",
        "if __name__ == \"__main__\":\n",
        "    main()\n",
        "\n",
        "\n"
      ]
    },
    {
      "cell_type": "markdown",
      "source": [
        "# Question 4 (20 Points)"
      ],
      "metadata": {
        "id": "OP4-5qxAtInv"
      }
    },
    {
      "cell_type": "markdown",
      "source": [
        "Design and implement a simple command-line calculator program. The program should handle both integers and floating-point numbers.\n",
        "\n",
        "(a) Write program that takes a mathematical expression as input and evaluates it. The program should support addition, subtraction, multiplication, and division.\n",
        "\n",
        "(b) Extend the calculator to handle parentheses in mathematical expressions. Implement the necessary logic to evaluate expressions with nested parentheses.\n",
        "\n",
        "(c) Enhance your calculator to include additional mathematical operations such as exponentiation, square root, and modulus.\n",
        "\n",
        "(d) Implement error handling in the calculator program. Handle cases such as division by zero and invalid input expressions. Provide meaningful error messages.\n",
        "\n",
        "(e) Implement a command to exit the calculator."
      ],
      "metadata": {
        "id": "uzN4_hDptK9U"
      }
    },
    {
      "cell_type": "code",
      "source": [
        "import math\n",
        "import re\n",
        "import sys\n",
        "\n",
        "def evaluate_expression(expression):\n",
        "    try:\n",
        "        return eval(expression)\n",
        "    except ZeroDivisionError:\n",
        "        return \"Error: Division by zero!\"\n",
        "    except Exception as e:\n",
        "        return f\"Error: {str(e)}\"\n",
        "\n",
        "def calculate():\n",
        "    print(\"Welcome to the command-line calculator!\")\n",
        "    print(\"Enter 'exit' to quit.\")\n",
        "\n",
        "    while True:\n",
        "        expression = input(\"Enter expression: \")\n",
        "\n",
        "        if expression.lower() == 'exit':\n",
        "            print(\"Exiting calculator...\")\n",
        "            sys.exit()\n",
        "\n",
        "        # Part (b): Handle parentheses\n",
        "        while '(' in expression:\n",
        "            match = re.search(r\"\\(([^()]+)\\)\", expression)\n",
        "            if match:\n",
        "                sub_expression = match.group(1)\n",
        "                result = evaluate_expression(sub_expression)\n",
        "                expression = expression.replace(f\"({sub_expression})\", str(result))\n",
        "            else:\n",
        "                break\n",
        "\n",
        "        result = evaluate_expression(expression)\n",
        "        print(\"Result:\", result)\n",
        "\n",
        "def main():\n",
        "    calculate()\n",
        "\n",
        "if __name__ == \"__main__\":\n",
        "    main()\n"
      ],
      "metadata": {
        "id": "8nQnVxjJuYtu",
        "colab": {
          "base_uri": "https://localhost:8080/",
          "height": 267
        },
        "outputId": "c221c94e-4f32-4a8b-c7a5-212e2ae44855"
      },
      "execution_count": 5,
      "outputs": [
        {
          "output_type": "stream",
          "name": "stdout",
          "text": [
            "Welcome to the command-line calculator!\n",
            "Enter 'exit' to quit.\n",
            "Enter expression: ((2*3))+(10*10)/2\n",
            "Result: 56.0\n",
            "Enter expression: 'exit'\n",
            "Result: exit\n",
            "Enter expression: exit\n",
            "Exiting calculator...\n"
          ]
        },
        {
          "output_type": "error",
          "ename": "SystemExit",
          "evalue": "",
          "traceback": [
            "An exception has occurred, use %tb to see the full traceback.\n",
            "\u001b[0;31mSystemExit\u001b[0m\n"
          ]
        }
      ]
    },
    {
      "cell_type": "markdown",
      "metadata": {
        "id": "z3tBE7E-Xn5X"
      },
      "source": [
        "# Question 5 (30 points).\n",
        "\n",
        "In the field of Data Science, data is often formatted as a comma-delimited (CSV) file, where each line in a file corresponds to a field's value. Refer to Chapter 9 (p. 106) for more information on comma-delimited files.\n",
        "\n",
        "To answer this question, you will need to download the file [Assignment1_denton_housing.csv](https://raw.githubusercontent.com/unt-iialab/info5731-spring2022/main/assignments/Assignment1_denton_housing.csv) included with this assignment. The file contains statistics about housing in the city of Denton from 2008 to 2014. Write a program to implement the following questions.\n",
        "\n",
        "(a) (5 pts) Calculate the difference in the number of Occupied Housing Units from year to year and print it. The difference must be calculated for the consecutive years such as 2008-2009, 2009-2010 etc. Finally, print the values in the ascending order.\n",
        "\n",
        "(b) (5 pts) For all the years, calculate the percentage of housing units which are vacant an occupied. Print the results in the following format:\n",
        "\n",
        "Year Vacant Housing Units Occupied Housing Units\n",
        "\n",
        "    2008  30%   70%                          \n",
        "\t2009 ----- -----\n",
        "\t2010 ----- -----\n",
        "    2011 ----- -----\n",
        "\t2012 ----- -----\n",
        "    2013 ----- -----\n",
        "\t2014 ----- -----\n",
        "  \n",
        "  \n",
        "\n",
        "(c) (10 pts) Calculate and print the valued and years in which the highest number of housing units were vacant and occupied. Print the results in the following format:  \n",
        "\n",
        "                              Year\tValue\n",
        "\tVacant Housing Units\t  -----   -----\n",
        "\tOccupied Housing Units\t-----   -----\n",
        "\n",
        "(d) (10 pts) Calculate the harmonic mean of the total housing units and print it out. You can find the information about harmonic mean here: https://ncalculators.com/statistics/harmonic-mean-calculator.htm"
      ]
    },
    {
      "cell_type": "code",
      "execution_count": 11,
      "metadata": {
        "id": "lqGYuHBhcsRH",
        "colab": {
          "base_uri": "https://localhost:8080/"
        },
        "outputId": "7d4840b9-6bd6-4d4b-b3e7-227e06237ed1"
      },
      "outputs": [
        {
          "output_type": "stream",
          "name": "stdout",
          "text": [
            "    year  Difference\n",
            "17  2009     -5091.0\n",
            "5   2013     -2622.0\n",
            "8   2012     -1565.0\n",
            "11  2011     -1404.0\n",
            "14  2010       303.0\n",
            "20  2008       795.0\n"
          ]
        },
        {
          "output_type": "stream",
          "name": "stderr",
          "text": [
            "<ipython-input-11-d0b08b2f5229>:9: SettingWithCopyWarning: \n",
            "A value is trying to be set on a copy of a slice from a DataFrame.\n",
            "Try using .loc[row_indexer,col_indexer] = value instead\n",
            "\n",
            "See the caveats in the documentation: https://pandas.pydata.org/pandas-docs/stable/user_guide/indexing.html#returning-a-view-versus-a-copy\n",
            "  occupied_df['Difference'] = occupied_df['value'].diff()\n",
            "<ipython-input-11-d0b08b2f5229>:12: SettingWithCopyWarning: \n",
            "A value is trying to be set on a copy of a slice from a DataFrame\n",
            "\n",
            "See the caveats in the documentation: https://pandas.pydata.org/pandas-docs/stable/user_guide/indexing.html#returning-a-view-versus-a-copy\n",
            "  occupied_df.dropna(inplace=True)\n"
          ]
        }
      ],
      "source": [
        "import pandas as pd\n",
        "#Load the CSV file into a DataFrame\n",
        "df = pd.read_csv('/content/Assignment1_denton_housing.csv')\n",
        "\n",
        "# Filter the DataFrame to include only rows with 'Occupied Housing Units' in the 'title_field' column\n",
        "occupied_df = df[df['title_field'] == 'Occupied Housing Units']\n",
        "\n",
        "# Calculate the difference in occupied housing units from year to year\n",
        "occupied_df['Difference'] = occupied_df['value'].diff()\n",
        "\n",
        "# Drop the NaN value in the 'Difference' column\n",
        "occupied_df.dropna(inplace=True)\n",
        "\n",
        "# Display the results sorted in ascending order\n",
        "print(occupied_df[['year', 'Difference']].sort_values(by='Difference'))"
      ]
    },
    {
      "cell_type": "code",
      "source": [
        "# Filter the DataFrame to include only rows with 'Vacant Housing Units' or 'Occupied Housing Units' in the 'title_field' column\n",
        "filtered_df = df[df['title_field'].isin(['Vacant Housing Units', 'Occupied Housing Units'])]\n",
        "\n",
        "# Pivot the DataFrame to have 'year' as index and 'title_field' as columns\n",
        "pivot_df = filtered_df.pivot(index='year', columns='title_field', values='value')\n",
        "\n",
        "# Calculate the total housing units for each year\n",
        "pivot_df['Total Housing Units'] = pivot_df['Vacant Housing Units'] + pivot_df['Occupied Housing Units']\n",
        "\n",
        "# Calculate the percentages of vacant and occupied housing units for each year\n",
        "pivot_df['Vacant Housing Units Percentage'] = (pivot_df['Vacant Housing Units'] / pivot_df['Total Housing Units']) * 100\n",
        "pivot_df['Occupied Housing Units Percentage'] = (pivot_df['Occupied Housing Units'] / pivot_df['Total Housing Units']) * 100\n",
        "\n",
        "# Print the results\n",
        "print(\"Year   Vacant Housing Units   Occupied Housing Units\")\n",
        "for year, row in pivot_df.iterrows():\n",
        "    print(f\"{year}   {row['Vacant Housing Units Percentage']:.2f}%   {row['Occupied Housing Units Percentage']:.2f}%\")"
      ],
      "metadata": {
        "colab": {
          "base_uri": "https://localhost:8080/"
        },
        "id": "dLctA0Vpt44P",
        "outputId": "45ccd9b0-2667-4bef-f361-bfe4c60470c3"
      },
      "execution_count": 12,
      "outputs": [
        {
          "output_type": "stream",
          "name": "stdout",
          "text": [
            "Year   Vacant Housing Units   Occupied Housing Units\n",
            "2008   10.88%   89.12%\n",
            "2009   9.07%   90.93%\n",
            "2010   8.14%   91.86%\n",
            "2011   9.38%   90.62%\n",
            "2012   6.68%   93.32%\n",
            "2013   8.80%   91.20%\n",
            "2014   5.73%   94.27%\n"
          ]
        }
      ]
    },
    {
      "cell_type": "code",
      "source": [
        "# Filter the DataFrame to include only rows with 'Vacant Housing Units' or 'Occupied Housing Units' in the 'title_field' column\n",
        "filtered_df = df[df['title_field'].isin(['Vacant Housing Units', 'Occupied Housing Units'])]\n",
        "\n",
        "# Pivot the DataFrame to have 'year' as index and 'title_field' as columns\n",
        "pivot_df = filtered_df.pivot(index='year', columns='title_field', values='value')\n",
        "\n",
        "# Find the year with the highest number of vacant and occupied housing units\n",
        "max_vacant_year = pivot_df['Vacant Housing Units'].idxmax()\n",
        "max_vacant_value = pivot_df.loc[max_vacant_year, 'Vacant Housing Units']\n",
        "max_occupied_year = pivot_df['Occupied Housing Units'].idxmax()\n",
        "max_occupied_value = pivot_df.loc[max_occupied_year, 'Occupied Housing Units']\n",
        "\n",
        "# Print the results\n",
        "print(\"Year    Value\")\n",
        "print(f\"Vacant Housing Units    {max_vacant_year}    {max_vacant_value}\")\n",
        "print(f\"Occupied Housing Units  {max_occupied_year}    {max_occupied_value}\")\n",
        ""
      ],
      "metadata": {
        "colab": {
          "base_uri": "https://localhost:8080/"
        },
        "id": "4uKk-bb6r1jP",
        "outputId": "3c6055f5-c10e-4137-9371-5a44905d4466"
      },
      "execution_count": 13,
      "outputs": [
        {
          "output_type": "stream",
          "name": "stdout",
          "text": [
            "Year    Value\n",
            "Vacant Housing Units    2008    4483\n",
            "Occupied Housing Units  2014    46295\n"
          ]
        }
      ]
    },
    {
      "cell_type": "code",
      "source": [
        "# Filter the DataFrame to include only rows with 'Total Housing Units' in the 'title_field' column\n",
        "total_housing_df = df[df['title_field'] == 'Total Housing Units']\n",
        "\n",
        "# Calculate the harmonic mean of the total housing units\n",
        "harmonic_mean = len(total_housing_df) / sum(1 / total_housing_df['value'])\n",
        "\n",
        "# Print the harmonic mean\n",
        "print(\"Harmonic Mean of Total Housing Units:\", harmonic_mean)"
      ],
      "metadata": {
        "colab": {
          "base_uri": "https://localhost:8080/"
        },
        "id": "2SyfELPWuiui",
        "outputId": "d8f0ae0c-b931-461b-c82d-3dacda943a14"
      },
      "execution_count": 14,
      "outputs": [
        {
          "output_type": "stream",
          "name": "stdout",
          "text": [
            "Harmonic Mean of Total Housing Units: 44398.28543969185\n"
          ]
        }
      ]
    },
    {
      "cell_type": "markdown",
      "source": [
        "# Mandatory Question\n",
        "\n",
        "Provide your thoughts on the assignment. What did you find challenging, and what aspects did you enjoy? Your opinion on the provided time to complete the assignment. Share any suggestions for improvement. Your feedback will be valuable for enhancing the learning experience."
      ],
      "metadata": {
        "id": "q8BFCvWp32cf"
      }
    },
    {
      "cell_type": "markdown",
      "source": [
        "I found this assignment to be quite comprehensive and challenging in a good way. It covers a wide range of topics.It provides a practical exercise that requires applying various programming concepts and libraries, such as pandas. One aspect I enjoyed was the opportunity to work with housing data and perform aggregate analysis on it. The time provided to complete the assignment seemed reasonable. It allowed for thorough exploration of the basic python concepts and data handling concepts."
      ],
      "metadata": {
        "id": "wAeGmEKQu1Sd"
      }
    },
    {
      "cell_type": "code",
      "source": [],
      "metadata": {
        "id": "_e557s2w4BpK"
      },
      "execution_count": null,
      "outputs": []
    }
  ],
  "metadata": {
    "colab": {
      "provenance": []
    },
    "kernelspec": {
      "display_name": "Python 3 (ipykernel)",
      "language": "python",
      "name": "python3"
    },
    "language_info": {
      "codemirror_mode": {
        "name": "ipython",
        "version": 3
      },
      "file_extension": ".py",
      "mimetype": "text/x-python",
      "name": "python",
      "nbconvert_exporter": "python",
      "pygments_lexer": "ipython3",
      "version": "3.9.12"
    }
  },
  "nbformat": 4,
  "nbformat_minor": 0
}